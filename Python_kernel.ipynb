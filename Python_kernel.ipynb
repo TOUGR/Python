{
 "cells": [
  {
   "cell_type": "markdown",
   "metadata": {},
   "source": [
    "# Núcleo de Python"
   ]
  },
  {
   "cell_type": "markdown",
   "metadata": {},
   "source": [
    "Referencia básica: \"Learning Scientific Programming with Python\", Christian Hill. Cambridge University Press 2015. "
   ]
  },
  {
   "cell_type": "markdown",
   "metadata": {},
   "source": [
    "## ¿Qué es Python?"
   ]
  },
  {
   "cell_type": "markdown",
   "metadata": {},
   "source": [
    "Python es un lenguaje de programación de propósito general diseñado por Guido van Rossum en 1989. Actualmente ocupa el cargo de \"benevolente dictador vitalicio\" en la estructura organizativa que mantiene y amplia el lenguaje. \n",
    "\n",
    "Es un lenguaje de programación de alto nivel porque evita que el usuario tenga que hacer las operaciones fundamentales a nivel de código máquina (por ejemplo escribir directamente las direcciones de memoria).\n",
    "\n",
    "Se considera que es un lenguaje de nivel superior a C porque contiene una variedad sintáctica superior y también estructuras, listas, tuplas, conjuntos, diccionarios, que no están en C. Podemos aplicarnos la máxima de que *la vida es demasiado corta para programar en C*. \n",
    "\n",
    "En Python prima la idea de que *There should be one - and preferably only one - obvious way to do it*, frente a otros lenguajes de similar nivel como Ruby y Perl que tienden a considerar que *there's more than one way to do it*."
   ]
  },
  {
   "cell_type": "markdown",
   "metadata": {},
   "source": [
    "## Ventajas de Python"
   ]
  },
  {
   "cell_type": "markdown",
   "metadata": {},
   "source": [
    "* Tiene una sintaxis bastante simple y clara. Se minimiza el riesgo de cometer errores  (bugs).  Los programas son fáciles de mantener y extender. \n",
    "* Es código libre en el doble sentido de que es gratuito (ventaja económica importante para la educación pública) y es de código abierto, lo que es condición necesaria para poder usarlo en la computación científica. \n",
    "* Es multiplataforma: podemos escribir programas que pueden correr en cualquier sistema operativo. \n",
    "* Python tiene su núcleo básico y además una gran librería de módulos y paquetes que extienden su aplicación a prácticamente cualquier ámbito de las ciencias y de la economía (véase la página [pypi.python.org/pypi](http://pypi.python.org/pypi)). También se utiliza para la programación de páginas web y para gestión de bases de datos. \n",
    "* Es fácil de aprender y sus mensajes de error permiten identificar con claridad los fallos cometidos.\n",
    "* Es un lenguaje flexible (multi-paradigma): contiene las mejores estructuras de los lenguajes de procedimiento, de lenguajes orientados a objetos y de los lenguajes funcionales.\n"
   ]
  },
  {
   "cell_type": "markdown",
   "metadata": {},
   "source": [
    "## Desventajas de Python"
   ]
  },
  {
   "cell_type": "markdown",
   "metadata": {},
   "source": [
    "* La velocidad de ejecución es menor que la de los lenguajes compilados (C o Fortran). Sin embargo esta desventaja se alivia por una mayor velocidad en la elaboración de los programas y en el caso de la programación científica, podemos recurrir a los paquetes Numpy y SciPy.\n",
    "* Es un código difícil de evitar que lo plagien. \n",
    "* Ha tenido un desarrollo \"difícil\" asociado a la incompatibilidad entre las versiones 2 y 3. "
   ]
  },
  {
   "cell_type": "markdown",
   "metadata": {},
   "source": [
    "## Instalación"
   ]
  },
  {
   "cell_type": "markdown",
   "metadata": {},
   "source": [
    "La página web oficial de Python es `www.python.org` y allí podemos encontrar cómo descargar e instalar Python y los paquetes que necesitemos.\n",
    "La instalación más cómoda y efectiva es a través del paquete *Anaconda* que se puede descargar desde la página `http://continuum.io/downloads`. Se puede elegir entre la versión 2 o 3 de Python, pero nosotros usaremos la 3.\n",
    "\n",
    "En la instalación de *Anaconda* se incluye:\n",
    "\n",
    "* Notebooks de Jupyter: estos apuntes se han redactado con esta aplicación.\n",
    "* Spyder: editor de código que incluye también Ipython.\n",
    "* Ipython: ventana de comandos para interaccionar directamente con el kernel. \n",
    "\n",
    "Nosotros vamos a usar los notebooks de Jupyter como herramienta de desarrollo."
   ]
  },
  {
   "cell_type": "markdown",
   "metadata": {},
   "source": [
    "## Notebooks de Jupyter"
   ]
  },
  {
   "cell_type": "markdown",
   "metadata": {},
   "source": [
    "Utiliza el lenguaje Markdown para generar celdas de texto. \n",
    "\n",
    "Los comandos básicos de este lenguaje son:\n",
    "\n",
    "* Itálica: `*texto*` \n",
    "* Negrita: `**texto**`\n",
    "* Anchura fija: `texto` (Acento grave)\n",
    "* URLs: [URL text] (http://www.example.com)\n",
    "* Nuevo párrafo: Línea en blanco\n",
    "* Verbatim: Texto con cuatro espacios\n",
    "* Tablas: | para las columnas y |— para las filas (son tres guiones)\n",
    "* Línea horizontal: —\n",
    "* Nivel 1 de cabecera: #\n",
    "* Nivel 2 de cabecera: ## etc.\n",
    "* Bloque de cita textual: >\n",
    "* Listas sin números: *\n",
    "* Listas con ordinales: 1., 2., etc.\n",
    "* Imágenes: ! [Texto alternativo] (fichero-imagen.png)\n",
    "* Ecuaciones latex: ``` $, $$```\n",
    "\n",
    "Para los gráficos conviene incluir la sentencia:\n",
    "%matplotlib inline"
   ]
  },
  {
   "cell_type": "markdown",
   "metadata": {},
   "source": [
    "## Datos en Python"
   ]
  },
  {
   "cell_type": "markdown",
   "metadata": {},
   "source": [
    "Hay tres categorías (`type`) de datos en Python: números, cadenas de caracteres (`str`) y valores lógicos (`bool`). Dentro de los números hay tres tipos (`type`): enteros (`int`), reales (`float`) y complejos (`complex`).\n",
    "\n",
    "Los enteros pueden tener cualquier longitud (limitada por la memoria del ordenador) y ser positivos o negativos. Se puede convertir al tipo entero con el constructor `int()`.\n",
    "\n",
    "Los reales se definen mediante el punto decimal y también usando notación científica (`E` o `e`). Se puede convertir al tipo real con el contructor `float()`.\n",
    "\n",
    "Los complejos se definen añadiendo `j` a su parte imaginaria. Partes real e imaginaria se tratan como reales. Se puede convertir al tipo complejo con el contructor `complex()`. "
   ]
  },
  {
   "cell_type": "code",
   "execution_count": 1,
   "metadata": {},
   "outputs": [
    {
     "data": {
      "text/plain": [
       "(3+4j)"
      ]
     },
     "execution_count": 1,
     "metadata": {},
     "output_type": "execute_result"
    }
   ],
   "source": [
    "3+4j"
   ]
  },
  {
   "cell_type": "code",
   "execution_count": 2,
   "metadata": {},
   "outputs": [
    {
     "name": "stdout",
     "output_type": "stream",
     "text": [
      "<class 'int'> <class 'float'> <class 'float'> <class 'float'> \n",
      " <class 'complex'>\n"
     ]
    }
   ],
   "source": [
    "print(type(3),type(5.),type(5E3),type(5e3),'\\n', type(1+1j))"
   ]
  },
  {
   "cell_type": "markdown",
   "metadata": {},
   "source": [
    "En Python, todo es un objeto que pertenece a una clase. De ahí que aparezca en la salida anterior la palabra `class`."
   ]
  },
  {
   "cell_type": "code",
   "execution_count": 3,
   "metadata": {},
   "outputs": [
    {
     "name": "stdout",
     "output_type": "stream",
     "text": [
      "3 -3 3.0 (3+1j)\n"
     ]
    }
   ],
   "source": [
    "print(int(3.4),int(-3.6),float(3), complex(3,1))"
   ]
  },
  {
   "cell_type": "markdown",
   "metadata": {},
   "source": [
    "## Operadores aritméticos básicos"
   ]
  },
  {
   "cell_type": "markdown",
   "metadata": {},
   "source": [
    "* `+` Suma\n",
    "* `-` Resta\n",
    "* `*` Multiplicación\n",
    "* `/` División en coma flotante\n",
    "* `//` División entera\n",
    "* `%` Resto de la división\n",
    "* `**` Exponenciación \n",
    "\n",
    "La mezcla de tipos (int, float) genera float. La división en coma flotante siempre genera float. La división entera entre enteros genera entero. El resto de división entre enteros genera entero.\n",
    "\n",
    "La preferencia de operadores es (de mayor a menor): `**, (*,/,//,%), (+,-)`. En caso de igualdad se ejecuta de izquierda a derecha, excepto la exponenciación que es al revés. En caso de duda lo más resolutivo es usar paréntesis."
   ]
  },
  {
   "cell_type": "code",
   "execution_count": 4,
   "metadata": {},
   "outputs": [
    {
     "name": "stdout",
     "output_type": "stream",
     "text": [
      "1.0 4.0 19683 19683 729\n"
     ]
    }
   ],
   "source": [
    "print(8/4/2,8/(4/2),3**3**2,3**9,(3**3)**2)"
   ]
  },
  {
   "cell_type": "markdown",
   "metadata": {},
   "source": [
    "## Funciones, métodos y atributos matemáticos"
   ]
  },
  {
   "cell_type": "markdown",
   "metadata": {},
   "source": [
    "Las funciones y los métodos son muy similares en cuanto a resultados, pero a nivel interno de Python son muy diferentes. Los números en Python son objetos, pertenecen a una clase, y en cada clase se definen atributos y métodos.\n",
    "\n",
    "Por ejemplo, un número complejo tiene parte real y parte imaginaria. Podemos obtener cada una usando los atributos `.real` y `.imag`. Sin embargo el conjugado de un número complejo se obtiene usando el método `.conjugate()`. Como vemos los atributos no tienen paréntesis, mientras que los métodos sí. Tanto atributos como métodos tienen la sintaxis de nombre del objeto, seguido de un punto y nombre del atributo o método.\n",
    "\n",
    "Sin embargo el valor absoluto de un número o su redondeo se obtienen a partir de la aplicación de unas funciones al objeto: `abs()` y `round()`.\n",
    "\n",
    "Para las funciones matemáticas que vienen definidas en cualquier calculadora científica necesitamos importar el paquete `math`. La lista de funciones se puede consultar en [https://docs.python.org/3/library/math.html#module-math](https://docs.python.org/3/library/math.html#module-math). \n",
    "\n",
    "Algunas de las más usadas son: `sqrt, exp, log, log10, sin, cos, tan, asin, acos, atan, factorial, degrees, radians`. También incluye, entre otras constantes, los números `e` y `pi`.\n",
    "\n",
    "Para importar el paquete usamos la instrucción `import math`."
   ]
  },
  {
   "cell_type": "code",
   "execution_count": 5,
   "metadata": {},
   "outputs": [
    {
     "name": "stdout",
     "output_type": "stream",
     "text": [
      "3.0 7.0 (3-7j) 3.4 2 4\n"
     ]
    }
   ],
   "source": [
    "print((3+7j).real,(3+7j).imag,(3+7j).conjugate(),abs(-3.4),\n",
    "      round(2.5),round(3.5))"
   ]
  },
  {
   "cell_type": "code",
   "execution_count": 6,
   "metadata": {},
   "outputs": [
    {
     "name": "stdout",
     "output_type": "stream",
     "text": [
      "4.0 4.0 59.99999999999999\n"
     ]
    }
   ],
   "source": [
    "import math\n",
    "print(math.sqrt(16), math.sqrt(16.0),\n",
    "      math.degrees(math.acos(1/2)))"
   ]
  },
  {
   "cell_type": "markdown",
   "metadata": {},
   "source": [
    "## Variables"
   ]
  },
  {
   "cell_type": "markdown",
   "metadata": {},
   "source": [
    "El concepto de variable es común a todos los lenguajes de programación, pero el uso o significado para cada uno puede ser muy diferente. En Python, una variable es como una etiqueta o identificador de una dirección de memoria donde se ubica uno o más datos. No se trata por tanto de un contenedor de dato sino de una etiqueta.\n",
    "\n",
    "Veamos el siguiente ejemplo:"
   ]
  },
  {
   "cell_type": "code",
   "execution_count": 7,
   "metadata": {},
   "outputs": [
    {
     "name": "stdout",
     "output_type": "stream",
     "text": [
      "El valor de a es  3\n"
     ]
    }
   ],
   "source": [
    "a=3  # Se crea el objeto int 3 y una etiqueta llamada a\n",
    "print('El valor de a es ',a)"
   ]
  },
  {
   "cell_type": "markdown",
   "metadata": {},
   "source": [
    "En la primera línea se crea un objeto de tipo entero en alguna localización de memoria y a esta dirección se le llama `a`. A continuación, en la segunda línea mostramos el valor que hay almacenado en `a` usando la función `print()`.\n",
    "\n",
    "En Python no hay que especificar qué tipo de dato identifica una variable. Es lo que se llama asignación dinámica. \n",
    "\n",
    "Para asignar nombre a una variable seguiremos la siguiente regla: debe comenzar por una letra y puede contener letras, números y el guión bajo. Se diferencia entre mayúsculas y minúsculas. Hay que evitar los nombres reservados para los comandos. Hay que tener cuidado con l y 1 y O y 0 porque son difíciles de distiguir. Hay que intentar usar nombres que tengan significado, pero hay que evitar nombres excesivamente largos."
   ]
  },
  {
   "cell_type": "markdown",
   "metadata": {},
   "source": [
    "## Operadores de comparación y variables lógicas"
   ]
  },
  {
   "cell_type": "markdown",
   "metadata": {},
   "source": [
    "Los operadores de comparación son:\n",
    "\n",
    "* `==` igual\n",
    "* `!=` distinto\n",
    "* `>` mayor que\n",
    "* `<` menor que\n",
    "* `>=` mayor o igual que\n",
    "* `<=` menor o igual que\n",
    "\n",
    "Cuando se efectua una comparación se genera un objeto de tipo booleano que puede tener dos valores, `True` o `False`."
   ]
  },
  {
   "cell_type": "code",
   "execution_count": 8,
   "metadata": {},
   "outputs": [
    {
     "data": {
      "text/plain": [
       "False"
      ]
     },
     "execution_count": 8,
     "metadata": {},
     "output_type": "execute_result"
    }
   ],
   "source": [
    "import math  # importamos el paquete math\n",
    "a=3  # definimos el entero 3 y lo etiquetamos con a\n",
    "b=math.pi  # definimos el numero pi y lo etiquetamos con b\n",
    "a>=b "
   ]
  },
  {
   "cell_type": "markdown",
   "metadata": {},
   "source": [
    "Hay que tener mucho cuidado de no confundir `=` con `==`. El primero es asignación y el segundo es comparación. El primero no genera salida y el segundo genera un objeto booleano.\n",
    "\n",
    "En las comparaciones con float hay que tener cuidado con las aproximaciones binarias de los números."
   ]
  },
  {
   "cell_type": "code",
   "execution_count": 9,
   "metadata": {},
   "outputs": [
    {
     "name": "stdout",
     "output_type": "stream",
     "text": [
      "True False\n"
     ]
    }
   ],
   "source": [
    "a=0.01\n",
    "b=0.1**2\n",
    "print(abs(a-b)<0.0000000000000001,a==b)"
   ]
  },
  {
   "cell_type": "markdown",
   "metadata": {},
   "source": [
    "## Operadores lógicos"
   ]
  },
  {
   "cell_type": "code",
   "execution_count": 10,
   "metadata": {},
   "outputs": [
    {
     "name": "stdout",
     "output_type": "stream",
     "text": [
      "True False\n"
     ]
    }
   ],
   "source": [
    "print(not 7.5 < 0.9 and 4 == 4,\n",
    "      not (7.5 < 0.9 or 4 == 4))"
   ]
  },
  {
   "cell_type": "markdown",
   "metadata": {},
   "source": [
    "## Cadenas de caracteres"
   ]
  },
  {
   "cell_type": "markdown",
   "metadata": {},
   "source": [
    "Es una secuencia ordenada, e inmutable, de caracteres definida entre '' o \"\". \n",
    "\n",
    "Se puede seleccionar un elemento concreto de la cadena añadiendo `[n]`, donde `n` es la posición. En Python la numeración de una secuencia ordenada empieza con el 0. "
   ]
  },
  {
   "cell_type": "code",
   "execution_count": 11,
   "metadata": {},
   "outputs": [
    {
     "name": "stdout",
     "output_type": "stream",
     "text": [
      "Tierra a la vista D\n"
     ]
    }
   ],
   "source": [
    "print('Tierra a la vista', 'Diego de Triana'[0])"
   ]
  },
  {
   "cell_type": "markdown",
   "metadata": {},
   "source": [
    "Las cadenas se pueden sumar entre sí, lo que significa superposición, o multiplicar por un entero, lo que implica superponerla un número de veces igual al entero.\n",
    "\n",
    "También podemor saber su longitud con la función `len(cadena)` donde `cadena` es la cadena de caracteres."
   ]
  },
  {
   "cell_type": "code",
   "execution_count": 12,
   "metadata": {},
   "outputs": [
    {
     "name": "stdout",
     "output_type": "stream",
     "text": [
      "abc345 345345345 3\n"
     ]
    }
   ],
   "source": [
    "a='abc'\n",
    "b='345'\n",
    "print(a+b,b*3, len(a))"
   ]
  },
  {
   "cell_type": "markdown",
   "metadata": {},
   "source": [
    "### Seleccionando trozos de cadena"
   ]
  },
  {
   "cell_type": "markdown",
   "metadata": {},
   "source": [
    "Para seleccionar un elemento de una cadena se utiliza el indexador `[]`.\n",
    "\n",
    "Para seleccionar un trozo utilizamos la forma `[f:l]` donde `f` es el primer elemento, incluido, y `l` es el último, excluido. Por defecto `f` es cero y `l` es hasta el final. Es decir, se selecciona un número de elementos dado por `l-f`. De forma inversa, si se parte del elemento `f` y se quieren seleccionar `r` elementos se usaría `[f:f+r]`.\n",
    "\n",
    "Si el índice es negativo se empieza a contar desde la última posición."
   ]
  },
  {
   "cell_type": "code",
   "execution_count": 13,
   "metadata": {},
   "outputs": [
    {
     "name": "stdout",
     "output_type": "stream",
     "text": [
      "E m ni Eni nigma nigm\n"
     ]
    }
   ],
   "source": [
    "a='Enigma'\n",
    "print(a[0],a[-2], a[1:3], a[:3], a[1:], a[1:-1])"
   ]
  },
  {
   "cell_type": "markdown",
   "metadata": {},
   "source": [
    "Para saber si una cadena está en otra se puede usar el operador `in`."
   ]
  },
  {
   "cell_type": "code",
   "execution_count": 14,
   "metadata": {},
   "outputs": [
    {
     "data": {
      "text/plain": [
       "True"
      ]
     },
     "execution_count": 14,
     "metadata": {},
     "output_type": "execute_result"
    }
   ],
   "source": [
    "a='Don Quijote de la Mancha'\n",
    "'Quijote' in a"
   ]
  },
  {
   "cell_type": "markdown",
   "metadata": {},
   "source": [
    "## Listas"
   ]
  },
  {
   "cell_type": "markdown",
   "metadata": {},
   "source": [
    "Es un conjunto ordenado y mutable de objetos encerrados entre corchetes. \n",
    "La lista vacía se define como `[]`.\n",
    "\n",
    "Cada elemento de la lista se selecciona con el nombre de la lista seguido con la posición del objeto encerrado entre corchetes.\n",
    "\n",
    "También se puede crear con el contructor `list()`."
   ]
  },
  {
   "cell_type": "code",
   "execution_count": 15,
   "metadata": {},
   "outputs": [
    {
     "name": "stdout",
     "output_type": "stream",
     "text": [
      "1 [4, 5] 4 False\n"
     ]
    }
   ],
   "source": [
    "a=[1,2,3,[4,5],'a',False]\n",
    "print(a[0],a[3],a[3][0],a[-1])"
   ]
  },
  {
   "cell_type": "markdown",
   "metadata": {},
   "source": [
    "El trozo de lista se hace una copia. Se copian listas usando `b=a[:]`."
   ]
  },
  {
   "cell_type": "code",
   "execution_count": 6,
   "metadata": {},
   "outputs": [
    {
     "name": "stdout",
     "output_type": "stream",
     "text": [
      "2 2\n",
      "3 2 3 2\n"
     ]
    }
   ],
   "source": [
    "a=[1,2,3,4,5,6,7]\n",
    "c=a\n",
    "d=list(a)\n",
    "b=a[0:3]\n",
    "print(a[1],b[1])\n",
    "a[1]=3\n",
    "print(a[1],b[1],c[1],d[1])"
   ]
  },
  {
   "cell_type": "markdown",
   "metadata": {},
   "source": [
    "Podemos usar el comodín `-1` para indicar el último elemento de la lista y también para indicar un incremento negativo (se cambia el orden):"
   ]
  },
  {
   "cell_type": "code",
   "execution_count": 17,
   "metadata": {},
   "outputs": [
    {
     "name": "stdout",
     "output_type": "stream",
     "text": [
      "[7, 6, 5, 4, 3, 3, 1]\n",
      "7\n"
     ]
    }
   ],
   "source": [
    "print(a[::-1])\n",
    "print(a[-1])"
   ]
  },
  {
   "cell_type": "markdown",
   "metadata": {},
   "source": [
    "Los métodos habituales que actúan sobre las listas son:\n",
    "\n",
    "* `append(elem)`  Añade `elem` al final de la lista\n",
    "* `sort()` Ordena la lista\n",
    "* `count(elem)` Devuelve el número de elementos igual a `elem`"
   ]
  },
  {
   "cell_type": "code",
   "execution_count": 3,
   "metadata": {},
   "outputs": [
    {
     "name": "stdout",
     "output_type": "stream",
     "text": [
      "[1, 2, 3, 4, 5, 6]\n",
      "[6, 5, 4, 3, 2, 1]\n",
      "[1, 2, 3, 4, 5, 6]\n",
      "1\n"
     ]
    }
   ],
   "source": [
    "a=[1,2,3,4,5,6]\n",
    "print(a)\n",
    "a.reverse()\n",
    "print(a)\n",
    "a.sort()\n",
    "print(a)\n",
    "print(a.count(5))\n"
   ]
  },
  {
   "cell_type": "markdown",
   "metadata": {},
   "source": [
    "## Tuplas"
   ]
  },
  {
   "cell_type": "markdown",
   "metadata": {},
   "source": [
    "En muchos aspectos son como listas pero con carácter inmutable. Se definen poniendo elementos entre paréntesis y separados por comas. El constructor es `tuple()`. Se pueden seleccionar elementos o trozos de forma análoga a listas, pero no se puede modificar ningún elemento, ni añadir ni eliminar. Pueden contener elementos mutables como listas:"
   ]
  },
  {
   "cell_type": "code",
   "execution_count": 19,
   "metadata": {},
   "outputs": [
    {
     "name": "stdout",
     "output_type": "stream",
     "text": [
      "[4, 5] 4\n"
     ]
    }
   ],
   "source": [
    "t=(1,2,3,[4,5],6)\n",
    "print(t[3],t[3][0])"
   ]
  },
  {
   "cell_type": "markdown",
   "metadata": {},
   "source": [
    "Una tupla con un solo elemento, singleton, se define con una coma añadida para evitar confusión con el uso sintáctico de los paréntesis:"
   ]
  },
  {
   "cell_type": "code",
   "execution_count": 20,
   "metadata": {},
   "outputs": [
    {
     "name": "stdout",
     "output_type": "stream",
     "text": [
      "(1,) ('a', 'b', 'c')\n"
     ]
    }
   ],
   "source": [
    "t1=(1,)\n",
    "t2=tuple('abc')\n",
    "print(t1,t2)"
   ]
  },
  {
   "cell_type": "markdown",
   "metadata": {},
   "source": [
    "## El tipo `range`"
   ]
  },
  {
   "cell_type": "markdown",
   "metadata": {},
   "source": [
    "Para generar una progresión aritmética de enteros se usa el constructor `range` con tres posibles argumentos: entero inicial, entero final y el incremento. \n",
    "\n",
    "El objeto creado por `range` NO es una lista, sino un objeto iterable en el que se puede seleccionar cada elemento:"
   ]
  },
  {
   "cell_type": "code",
   "execution_count": 21,
   "metadata": {},
   "outputs": [
    {
     "name": "stdout",
     "output_type": "stream",
     "text": [
      "range(3, 6) 3 8 3 4 \n",
      " [3, 4, 5]\n"
     ]
    }
   ],
   "source": [
    "a=range(3,6)\n",
    "b=range(2,10,2)\n",
    "print(a, a[0],b[-1],len(a),len(b),'\\n',list(a))"
   ]
  },
  {
   "cell_type": "markdown",
   "metadata": {},
   "source": [
    "## Bucles `for`"
   ]
  },
  {
   "cell_type": "markdown",
   "metadata": {},
   "source": [
    "Hasta ahora los programas se ejecutan de forma secuencial, es decir, una línea detrás de otra. Pero un programa puede necesitar ejecutar sentencias un número determinado de veces, o ejecutar una sentencia u otra en función del valor de una variable, etc. Para ello están los bucles `for` y `while` y las estructuras de control `if-elif-then`."
   ]
  },
  {
   "cell_type": "markdown",
   "metadata": {},
   "source": [
    "El bucle `for` ejecuta una serie de sentencias para cada uno de los miembros de un iterable. La sintaxis se ve en el ejemplo. El cuerpo debe estar indentado, siendo 4 espacios en blanco lo recomendable. La variable índice se hace global y adquiere el valor último del bucle. Se pueden anidar bucles.\n",
    "\n",
    "Un ejemplo puede ser el cálculo del valor medio de una lista de números:"
   ]
  },
  {
   "cell_type": "code",
   "execution_count": 22,
   "metadata": {},
   "outputs": [
    {
     "name": "stdout",
     "output_type": "stream",
     "text": [
      "3.0\n",
      "5\n"
     ]
    }
   ],
   "source": [
    "a=[1,2,3,4,5]\n",
    "vm=0.\n",
    "for i in a:\n",
    "    vm=i+vm\n",
    "vm=vm/len(a)\n",
    "print(vm)\n",
    "print(i)"
   ]
  },
  {
   "cell_type": "markdown",
   "metadata": {},
   "source": [
    "También se puede utilizar el tipo `range` para darle valores a la variable de iteración:"
   ]
  },
  {
   "cell_type": "code",
   "execution_count": 23,
   "metadata": {},
   "outputs": [
    {
     "name": "stdout",
     "output_type": "stream",
     "text": [
      "1 4 9 16 25 5\n"
     ]
    }
   ],
   "source": [
    "for i in range(1,6):\n",
    "    print(i**2, end=' ')\n",
    "print(i)"
   ]
  },
  {
   "cell_type": "markdown",
   "metadata": {},
   "source": [
    "También se puede usar una cadena de caracteres como lista para valores del iterador:"
   ]
  },
  {
   "cell_type": "code",
   "execution_count": 6,
   "metadata": {},
   "outputs": [
    {
     "name": "stdout",
     "output_type": "stream",
     "text": [
      "e,s,t,a, ,e,s, ,l,a, ,h,i,s,t,o,r,i,a, ,d,e, ,.,.,.,"
     ]
    }
   ],
   "source": [
    "li='esta es la historia de ...'\n",
    "for i in li:\n",
    "    print(i,end=',')"
   ]
  },
  {
   "cell_type": "markdown",
   "metadata": {},
   "source": [
    "## Estructura `if-elif-else`"
   ]
  },
  {
   "cell_type": "markdown",
   "metadata": {},
   "source": [
    "Permite ir cambiando la dirección del flujo del programa en función de si son ciertas o no las condiciones establecidas. Si la sentencia que acompaña a `if` es cierta, se ejecuta el cuerpo indentado y se pasa a la sentencia siguiente de la estructura, si es falsa se pasa al siguiente `elif` donde se ejecuta el cuerpo indentado si es cierta y se pasa a la siguiente sentencia fuera de la estructura, y así para cada uno de los `elif` hasta el `else` que se ejecuta siempre que se llegue a él."
   ]
  },
  {
   "cell_type": "code",
   "execution_count": 25,
   "metadata": {},
   "outputs": [
    {
     "name": "stdout",
     "output_type": "stream",
     "text": [
      "0  es par\n",
      "1  es impar\n",
      "2  es par\n",
      "3  es impar\n",
      "4  es par\n",
      "5  es impar\n",
      "6  es par\n",
      "7  es impar\n",
      "8  es par\n",
      "9  es impar\n"
     ]
    }
   ],
   "source": [
    "for i in range(10):\n",
    "    if i%2 ==0:\n",
    "        print(i,' es par')\n",
    "    else: \n",
    "        print(i,' es impar')"
   ]
  },
  {
   "cell_type": "code",
   "execution_count": 26,
   "metadata": {},
   "outputs": [
    {
     "name": "stdout",
     "output_type": "stream",
     "text": [
      "0  es menor o igual que 3\n",
      "1  es menor o igual que 3\n",
      "2  es menor o igual que 3\n",
      "3  es menor o igual que 3\n",
      "4  es menor o igual que 5 pero mayor que 3\n",
      "5  es menor o igual que 5 pero mayor que 3\n",
      "6  es menor o igual que 7 pero mayor que 5\n",
      "7  es menor o igual que 7 pero mayor que 5\n",
      "8  es mayor que 7\n",
      "9  es mayor que 7\n"
     ]
    }
   ],
   "source": [
    "for i in range(10):\n",
    "    if i<=3:\n",
    "        print(i,' es menor o igual que 3')\n",
    "    elif i<=5:\n",
    "        print(i,' es menor o igual que 5 pero mayor que 3')\n",
    "    elif i<=7:\n",
    "        print(i,' es menor o igual que 7 pero mayor que 5')\n",
    "    else:\n",
    "        print(i,' es mayor que 7')"
   ]
  },
  {
   "cell_type": "markdown",
   "metadata": {},
   "source": [
    "## Bucle `while`"
   ]
  },
  {
   "cell_type": "markdown",
   "metadata": {},
   "source": [
    "Es un tipo de bucle que se repite hasta que la sentencia de control toma el valor de `False`. Por ejemplo, para encontrar el máximo común divisor podemos usar el algoritmo de Euclides a través de un bucle `while`:"
   ]
  },
  {
   "cell_type": "code",
   "execution_count": 27,
   "metadata": {},
   "outputs": [
    {
     "name": "stdout",
     "output_type": "stream",
     "text": [
      "5\n"
     ]
    }
   ],
   "source": [
    "a,b=25, 15\n",
    "while b!=0:\n",
    "    a,b=b,a%b\n",
    "print(a)"
   ]
  },
  {
   "cell_type": "markdown",
   "metadata": {},
   "source": [
    "## Funciones"
   ]
  },
  {
   "cell_type": "markdown",
   "metadata": {},
   "source": [
    "Es una herramienta muy útil en la programación. De hecho hay una característica de los diferentes lenguajes de programación que es la funcionalidad, e indica la capacidad del lenguaje en el uso de funciones.\n",
    "\n",
    "Una función se define con la sentencia `def` seguida del nombre de la función y entre paréntesis los diferentes parámetros o argumentos que utiliza, y para finalizar la línea de definición, los dos puntos que nos indica una indentación del cuerpo de la función. \n",
    "\n",
    "Una función termina habitualmente con la sentencia `return` seguida de las variables de salida separadas por comas, en forma de tupla.\n",
    "\n",
    "Para llamar a la función se usa su nombre seguido por el valor de las variables entre paréntesis."
   ]
  },
  {
   "cell_type": "code",
   "execution_count": 28,
   "metadata": {},
   "outputs": [
    {
     "name": "stdout",
     "output_type": "stream",
     "text": [
      "9\n"
     ]
    }
   ],
   "source": [
    "def cuadrado(x):\n",
    "    \"\"\"Devuelve el cuadrado de un numero\"\"\"\n",
    "    return x**2\n",
    "print(cuadrado(3))"
   ]
  },
  {
   "cell_type": "markdown",
   "metadata": {},
   "source": [
    "* Una función no puede ser llamada antes de ser definida\n",
    "* El uso de una función se debe documentar a través de las docstring: como primera línea del cuerpo de la función y encerradas entre triple comillas. Toda función tiene el atributo `.__doc__` que devuelve la docstring. Se debe documentar el uso, pero la explicación del algoritmo es mejor hacerlo con #."
   ]
  },
  {
   "cell_type": "code",
   "execution_count": 29,
   "metadata": {},
   "outputs": [
    {
     "data": {
      "text/plain": [
       "'Devuelve el cuadrado de un numero'"
      ]
     },
     "execution_count": 29,
     "metadata": {},
     "output_type": "execute_result"
    }
   ],
   "source": [
    "cuadrado.__doc__"
   ]
  },
  {
   "cell_type": "markdown",
   "metadata": {},
   "source": [
    "Los argumentos se pueden pasar a una función de dos maneras: por la posición o a través de nombre. En el primer caso hay que respetar el orden en la definición y en el segundo caso el nombre. Si se mezclan los tipos, hay que poner primero los definidos por posición. "
   ]
  },
  {
   "cell_type": "code",
   "execution_count": 30,
   "metadata": {},
   "outputs": [
    {
     "name": "stdout",
     "output_type": "stream",
     "text": [
      "0 4\n"
     ]
    }
   ],
   "source": [
    "def f(x,y,z):\n",
    "    if z<0:\n",
    "        xi=x+y+z\n",
    "    else:\n",
    "        xi=x*y*z\n",
    "    return xi**2\n",
    "print(f(1,2,-3),f(y=4,z=-3,x=1))"
   ]
  },
  {
   "cell_type": "markdown",
   "metadata": {},
   "source": [
    "## Ficheros"
   ]
  },
  {
   "cell_type": "markdown",
   "metadata": {},
   "source": [
    "El acceso a un fichero se hace a través del objeto `file` que se crea con la función `open(path,modo)` donde `path` indica la ubicación y nombre del fichero, y `modo` indica el tipo de acceso:\n",
    "\n",
    "* `r`  solo lectura\n",
    "* `w`  solo escritura (sobreescribiendo)\n",
    "* `a`  solo escritura (añadiendo a un fichero ya existente)\n",
    "\n",
    "Una vez terminado con el fichero hay que cerrarlo con el método `.close()`.\n",
    "\n",
    "El objeto `file` es iterable."
   ]
  },
  {
   "cell_type": "markdown",
   "metadata": {},
   "source": [
    "### Escritura"
   ]
  },
  {
   "cell_type": "markdown",
   "metadata": {},
   "source": [
    "Se puede hacer con `.write(cadena)`, donde `cadena` es una cadena de caracteres.\n",
    "También se puede usar la sentencia `print`, con el argumento `file`. "
   ]
  },
  {
   "cell_type": "code",
   "execution_count": 31,
   "metadata": {
    "collapsed": true
   },
   "outputs": [],
   "source": [
    "f=open('kk.txt','w')\n",
    "a=3\n",
    "f.write('kk\\n')\n",
    "print('El valor de a es {}'.format(a), file=f)\n",
    "f.close()"
   ]
  },
  {
   "cell_type": "code",
   "execution_count": 32,
   "metadata": {
    "collapsed": true
   },
   "outputs": [],
   "source": [
    "f=open('kk2.txt','w')\n",
    "for i in range(1,1001):\n",
    "    print(i,i**2,i**3,sep=', ',file=f)\n",
    "f.close()"
   ]
  },
  {
   "cell_type": "markdown",
   "metadata": {},
   "source": [
    "### Lectura"
   ]
  },
  {
   "cell_type": "markdown",
   "metadata": {},
   "source": [
    "* `.readline()` lee una sola línea en forma de cadena de caracteres\n",
    "* `.readlines()` genera una lista con cada una de las líneas"
   ]
  },
  {
   "cell_type": "code",
   "execution_count": 33,
   "metadata": {},
   "outputs": [
    {
     "name": "stdout",
     "output_type": "stream",
     "text": [
      "kk\n",
      "El valor de a es 3\n"
     ]
    }
   ],
   "source": [
    "f=open('kk.txt','r')\n",
    "for line in f:\n",
    "    print(line,end='')\n",
    "f.close()"
   ]
  },
  {
   "cell_type": "code",
   "execution_count": 34,
   "metadata": {},
   "outputs": [
    {
     "name": "stdout",
     "output_type": "stream",
     "text": [
      "499 250000 125000000\n"
     ]
    }
   ],
   "source": [
    "numero=[]\n",
    "cuadra=[]\n",
    "cubo=[]\n",
    "f=open('kk2.txt','r')\n",
    "for line in f:\n",
    "    campos=line.split(',')\n",
    "    numero.append(int(campos[0]))\n",
    "    cuadra.append(int(campos[1]))\n",
    "    cubo.append(int(campos[2]))\n",
    "f.close()\n",
    "print(numero[499]-1,cuadra[499],cubo[499])"
   ]
  },
  {
   "cell_type": "code",
   "execution_count": 35,
   "metadata": {},
   "outputs": [
    {
     "name": "stdout",
     "output_type": "stream",
     "text": [
      "500, 250000, 125000000\n",
      "\n"
     ]
    }
   ],
   "source": [
    "f=open('kk2.txt','r')\n",
    "todas=f.readlines()\n",
    "f.close()\n",
    "print(todas[499])"
   ]
  },
  {
   "cell_type": "markdown",
   "metadata": {},
   "source": [
    "Cuando se lee una cadena de caracteres y se quiere evaluar su contenido se puede usar la función `eval()`:"
   ]
  },
  {
   "cell_type": "code",
   "execution_count": 36,
   "metadata": {},
   "outputs": [
    {
     "data": {
      "text/plain": [
       "tuple"
      ]
     },
     "execution_count": 36,
     "metadata": {},
     "output_type": "execute_result"
    }
   ],
   "source": [
    "a=eval('(33,)')\n",
    "type(a)"
   ]
  },
  {
   "cell_type": "markdown",
   "metadata": {},
   "source": [
    "## Mutable e inmutable"
   ]
  },
  {
   "cell_type": "markdown",
   "metadata": {},
   "source": [
    "Los arrays de numpy son objetos mutables. Obsérvese el siguiente código:"
   ]
  },
  {
   "cell_type": "code",
   "execution_count": 2,
   "metadata": {},
   "outputs": [
    {
     "name": "stdout",
     "output_type": "stream",
     "text": [
      "Once deleted, variables cannot be recovered. Proceed (y/[n])? y\n"
     ]
    }
   ],
   "source": [
    "reset"
   ]
  },
  {
   "cell_type": "code",
   "execution_count": 3,
   "metadata": {},
   "outputs": [
    {
     "name": "stdout",
     "output_type": "stream",
     "text": [
      "3 3\n",
      "4 3\n",
      "4 2\n",
      "[[14.  0.  0.]\n",
      " [ 0.  0.  0.]\n",
      " [ 0.  0.  0.]] [14.  0.  0.] [14.  0.  0.]\n",
      "[[13.  0.  0.]\n",
      " [ 0.  0.  0.]\n",
      " [ 0.  0.  0.]] [13.  0.  0.] [14.  0.  0.]\n"
     ]
    }
   ],
   "source": [
    "import numpy as np\n",
    "a=3\n",
    "b=a\n",
    "print(a,b)\n",
    "a=4\n",
    "print(a,b)\n",
    "b=2\n",
    "print(a,b)\n",
    "d=np.zeros((3,3),float)\n",
    "#e=np.zeros(3,float)\n",
    "f=np.zeros(3,float)\n",
    "d[0,0]=14\n",
    "e=d[:,0]\n",
    "f[:]=d[:,0]\n",
    "print(d,e,f)\n",
    "d[0,0]=13\n",
    "print(d,e,f)"
   ]
  },
  {
   "cell_type": "code",
   "execution_count": null,
   "metadata": {},
   "outputs": [],
   "source": []
  }
 ],
 "metadata": {
  "kernelspec": {
   "display_name": "Python 3",
   "language": "python",
   "name": "python3"
  },
  "language_info": {
   "codemirror_mode": {
    "name": "ipython",
    "version": 3
   },
   "file_extension": ".py",
   "mimetype": "text/x-python",
   "name": "python",
   "nbconvert_exporter": "python",
   "pygments_lexer": "ipython3",
   "version": "3.8.5"
  }
 },
 "nbformat": 4,
 "nbformat_minor": 2
}
